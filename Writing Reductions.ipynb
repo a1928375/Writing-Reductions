{
 "cells": [
  {
   "cell_type": "markdown",
   "metadata": {},
   "source": [
    "# Mine"
   ]
  },
  {
   "cell_type": "code",
   "execution_count": 1,
   "metadata": {},
   "outputs": [
    {
     "name": "stdout",
     "output_type": "stream",
     "text": [
      "True\n"
     ]
    }
   ],
   "source": [
    "def reductions(chart, i, x, ab, cd, j):\n",
    "    \n",
    "    result = []\n",
    "    \n",
    "    if cd == []:\n",
    "        \n",
    "        for jstate in chart[j]:\n",
    "            \n",
    "            if jstate[2] != [] and jstate[2][0] == x:\n",
    "                \n",
    "                result.append((jstate[0], jstate[1]+[x], jstate[2][1:], jstate[3]))\n",
    "    \n",
    "    return result\n",
    "\n",
    "chart = {0: [('exp', ['exp'], ['+', 'exp'], 0), \n",
    "             ('exp', [], ['num'], 0), \n",
    "             ('exp', [], ['(', 'exp', ')'], 0), \n",
    "             ('exp', [], ['exp', '-', 'exp'], 0), \n",
    "             ('exp', [], ['exp', '+', 'exp'], 0)], \n",
    "        1: [('exp', ['exp', '+'], ['exp'], 0)], \n",
    "        2: [('exp', ['exp', '+', 'exp'], [], 0)]}\n",
    "\n",
    "print (reductions(chart, 2,'exp',['exp','+','exp'],[],0) == [('exp', ['exp'], ['-', 'exp'], 0), \n",
    "                                                           ('exp', ['exp'], ['+', 'exp'], 0)])\n"
   ]
  },
  {
   "cell_type": "markdown",
   "metadata": {},
   "source": [
    "# Instructor\n",
    "# list comprehension"
   ]
  },
  {
   "cell_type": "code",
   "execution_count": 2,
   "metadata": {},
   "outputs": [
    {
     "name": "stdout",
     "output_type": "stream",
     "text": [
      "True\n"
     ]
    }
   ],
   "source": [
    "def reductions2(chart,i,x,ab,cd,j):\n",
    "    \n",
    "    return [(jstate[0], jstate[1]+[x], jstate[2][1:], jstate[3]) for jstate in chart[j] \n",
    "            if cd == [] and jstate[2]!= [] and jstate[2][0] == x]\n",
    "\n",
    "print (reductions2(chart, 2,'exp',['exp','+','exp'],[],0) == [('exp', ['exp'], ['-', 'exp'], 0), \n",
    "                                                           ('exp', ['exp'], ['+', 'exp'], 0)])"
   ]
  }
 ],
 "metadata": {
  "kernelspec": {
   "display_name": "Python 3",
   "language": "python",
   "name": "python3"
  },
  "language_info": {
   "codemirror_mode": {
    "name": "ipython",
    "version": 3
   },
   "file_extension": ".py",
   "mimetype": "text/x-python",
   "name": "python",
   "nbconvert_exporter": "python",
   "pygments_lexer": "ipython3",
   "version": "3.7.3"
  }
 },
 "nbformat": 4,
 "nbformat_minor": 2
}
